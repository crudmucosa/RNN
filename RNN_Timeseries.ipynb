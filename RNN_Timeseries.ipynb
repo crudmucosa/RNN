{
 "cells": [
  {
   "cell_type": "markdown",
   "metadata": {},
   "source": [
    "<h1><div align=\"center\">RNN for Timeseries</div></h1>\n",
    "<div align=\"center\">Bruno Gonçalves</div>\n",
    "<div align=\"center\"><a href=\"http://www.bgoncalves.com/\">www.bgoncalves.com</a></div>\n",
    "<div align=\"center\">@bgoncalves</div>\n",
    "<!--h2 align=\"center\", style=\"font-size=150%\">Part I</h2-->"
   ]
  },
  {
   "cell_type": "code",
   "execution_count": 3,
   "metadata": {},
   "outputs": [],
   "source": [
    "import numpy as np\n",
    "np.random.seed(123)\n",
    "\n",
    "import pandas as pd\n",
    "from sklearn.preprocessing import MinMaxScaler\n",
    "\n",
    "import tensorflow as tf\n",
    "tf.set_random_seed(123)\n",
    "\n",
    "import keras\n",
    "from keras.models import Sequential\n",
    "from keras.layers import Dense, SimpleRNN, LSTM, GRU\n",
    "\n",
    "from math import sqrt\n",
    "import matplotlib.pyplot as plt\n",
    "\n",
    "\n",
    "import watermark\n",
    "\n",
    "%load_ext watermark\n",
    "%matplotlib inline"
   ]
  },
  {
   "cell_type": "markdown",
   "metadata": {},
   "source": [
    "Let's start by print out the versions of the libraries we're using for future reference"
   ]
  },
  {
   "cell_type": "code",
   "execution_count": 4,
   "metadata": {},
   "outputs": [
    {
     "name": "stdout",
     "output_type": "stream",
     "text": [
      "Tue Sep 11 2018 \n",
      "\n",
      "CPython 3.6.6\n",
      "IPython 6.5.0\n",
      "\n",
      "numpy 1.15.1\n",
      "scipy 1.1.0\n",
      "keras 2.2.2\n",
      "matplotlib 2.2.3\n",
      "sklearn 0.19.1\n",
      "pandas 0.23.4\n",
      "\n",
      "compiler   : GCC 4.2.1 Compatible Clang 4.0.1 (tags/RELEASE_401/final)\n",
      "system     : Darwin\n",
      "release    : 17.7.0\n",
      "machine    : x86_64\n",
      "processor  : i386\n",
      "CPU cores  : 8\n",
      "interpreter: 64bit\n"
     ]
    }
   ],
   "source": [
    "%watermark -n -v -m -p numpy,scipy,keras,matplotlib,sklearn,pandas"
   ]
  },
  {
   "cell_type": "markdown",
   "metadata": {},
   "source": [
    "# Load dataset"
   ]
  },
  {
   "cell_type": "markdown",
   "metadata": {},
   "source": [
    "GDP data from the Federal Reserve Bank [website https://fred.stlouisfed.org/series/GDP](https://fred.stlouisfed.org/series/GDP)"
   ]
  },
  {
   "cell_type": "code",
   "execution_count": 15,
   "metadata": {},
   "outputs": [],
   "source": [
    "series = pd.read_csv('GDP.csv', header=0, parse_dates=[0], index_col=0)"
   ]
  },
  {
   "cell_type": "markdown",
   "metadata": {},
   "source": [
    "It's always important to see what you are doing. You can save a lot of time like this ;)"
   ]
  },
  {
   "cell_type": "code",
   "execution_count": 16,
   "metadata": {
    "scrolled": false
   },
   "outputs": [
    {
     "data": {
      "image/png": "[encoded data removed]",
      "text/plain": [
       "<Figure size 936x576 with 1 Axes>"
      ]
     },
     "metadata": {
      "needs_background": "light"
     },
     "output_type": "display_data"
    }
   ],
   "source": [
    "plt.plot(series)\n",
    "plt.xlabel('Date')\n",
    "plt.ylabel('GDP (B$)');\n",
    "plt.gcf().set_size_inches(13,8)"
   ]
  },
  {
   "cell_type": "markdown",
   "metadata": {},
   "source": [
    "You might remember the little \"dip\" around 2009."
   ]
  },
  {
   "cell_type": "markdown",
   "metadata": {},
   "source": [
    "## Scale the timeseries"
   ]
  },
  {
   "cell_type": "markdown",
   "metadata": {},
   "source": [
    "The outputs of a SimpleRNN are generated by an tanh function. Here we limit the values of our timeseries to be within [-1, 1] to avoid numerical issues."
   ]
  },
  {
   "cell_type": "code",
   "execution_count": 17,
   "metadata": {},
   "outputs": [
    {
     "data": {
      "text/plain": [
       "array([[-1.        ],\n",
       "       [-0.99932245],\n",
       "       [-0.99866436],\n",
       "       [-0.99854821],\n",
       "       [-0.99907754],\n",
       "       [-0.99944317],\n",
       "       [-0.99929048],\n",
       "       [-0.99951504],\n",
       "       [-0.99850234],\n",
       "       [-0.99755377]])"
      ]
     },
     "execution_count": 17,
     "metadata": {},
     "output_type": "execute_result"
    }
   ],
   "source": [
    "scaler = MinMaxScaler(feature_range=(-1, 1))\n",
    "input_data = scaler.fit_transform(series)\n",
    "\n",
    "#added to see the data a bit\n",
    "input_data[:10]"
   ]
  },
  {
   "cell_type": "markdown",
   "metadata": {},
   "source": [
    "## Training and Testing datasets "
   ]
  },
  {
   "cell_type": "markdown",
   "metadata": {},
   "source": [
    "We'll be using the first 2/3 of the timeseries to train the model and the last 1/3 to evaluate it. \n",
    "\n",
    "According to the presenter/teacher, this is just a very silly way of doing the testing and training. More realistic: use windowing, look for shorter term predictions"
   ]
  },
  {
   "cell_type": "code",
   "execution_count": 19,
   "metadata": {},
   "outputs": [],
   "source": [
    "n_points = input_data.shape[0]\n",
    "train_points = int(2/3*n_points)+1\n",
    "\n",
    "train, test = input_data[:train_points], input_data[train_points:]"
   ]
  },
  {
   "cell_type": "markdown",
   "metadata": {},
   "source": [
    "the y values are just the next x value"
   ]
  },
  {
   "cell_type": "code",
   "execution_count": 20,
   "metadata": {},
   "outputs": [
    {
     "name": "stdout",
     "output_type": "stream",
     "text": [
      "We have 188 training points and 92 testing points\n"
     ]
    }
   ],
   "source": [
    "X_train, X_test = train[:-1], test[:-1]\n",
    "y_train, y_test = train[1:], test[1:]\n",
    "\n",
    "print(\"We have\", len(X_train), \"training points and\", X_test.shape[0], \"testing points\")"
   ]
  },
  {
   "cell_type": "markdown",
   "metadata": {},
   "source": [
    "The SimpleRNN model expects a 3D dataset so we reshape them accordingly."
   ]
  },
  {
   "cell_type": "code",
   "execution_count": 23,
   "metadata": {},
   "outputs": [
    {
     "name": "stdout",
     "output_type": "stream",
     "text": [
      "(188, 1, 1)\n",
      "(92, 1, 1)\n"
     ]
    }
   ],
   "source": [
    "tf.reset_default_graph()\n",
    "keras.backend.clear_session()\n",
    "\n",
    "X_train = X_train.reshape(X_train.shape[0], X_train.shape[1], 1)\n",
    "X_test = X_test.reshape(X_test.shape[0], X_test.shape[1], 1)\n",
    "print(X_train.shape)\n",
    "print(X_test.shape)"
   ]
  },
  {
   "cell_type": "markdown",
   "metadata": {},
   "source": [
    "We're only using one timestep"
   ]
  },
  {
   "cell_type": "markdown",
   "metadata": {},
   "source": [
    "## Define the model architecture. \n",
    "We'll be using a SimpleRNN model with 4 hidden units. The Dense layer at the end has a linear activation function to aggregate the outputs of all the hidden units.\n",
    "\n",
    "Super easy model definition. Five lines of code"
   ]
  },
  {
   "cell_type": "code",
   "execution_count": 26,
   "metadata": {
    "scrolled": false
   },
   "outputs": [
    {
     "name": "stdout",
     "output_type": "stream",
     "text": [
      "_________________________________________________________________\n",
      "Layer (type)                 Output Shape              Param #   \n",
      "=================================================================\n",
      "simple_rnn_1 (SimpleRNN)     (None, 4)                 24        \n",
      "_________________________________________________________________\n",
      "dense_1 (Dense)              (None, 1)                 5         \n",
      "=================================================================\n",
      "Total params: 29\n",
      "Trainable params: 29\n",
      "Non-trainable params: 0\n",
      "_________________________________________________________________\n"
     ]
    }
   ],
   "source": [
    "model = Sequential()\n",
    "model.add(SimpleRNN(units=4, input_shape=(X_train.shape[1], X_train.shape[2])))\n",
    "model.add(Dense(1))\n",
    "model.compile(loss='mean_squared_error', optimizer='adam')\n",
    "model.summary()"
   ]
  },
  {
   "cell_type": "markdown",
   "metadata": {},
   "source": [
    "## Train the model"
   ]
  },
  {
   "cell_type": "code",
   "execution_count": 28,
   "metadata": {},
   "outputs": [
    {
     "name": "stdout",
     "output_type": "stream",
     "text": [
      "Epoch 1/20\n",
      "188/188 [==============================] - 0s 1ms/step - loss: 4.4281e-05\n",
      "Epoch 2/20\n",
      "188/188 [==============================] - 0s 1ms/step - loss: 4.4692e-05\n",
      "Epoch 3/20\n",
      "188/188 [==============================] - 0s 987us/step - loss: 4.5157e-05\n",
      "Epoch 4/20\n",
      "188/188 [==============================] - 0s 1ms/step - loss: 4.5633e-05\n",
      "Epoch 5/20\n",
      "188/188 [==============================] - 0s 978us/step - loss: 4.6114e-05\n",
      "Epoch 6/20\n",
      "188/188 [==============================] - 0s 988us/step - loss: 4.6585e-05\n",
      "Epoch 7/20\n",
      "188/188 [==============================] - 0s 984us/step - loss: 4.7000e-05\n",
      "Epoch 8/20\n",
      "188/188 [==============================] - 0s 968us/step - loss: 4.7376e-05\n",
      "Epoch 9/20\n",
      "188/188 [==============================] - 0s 961us/step - loss: 4.7701e-05\n",
      "Epoch 10/20\n",
      "188/188 [==============================] - 0s 1ms/step - loss: 4.7977e-05\n",
      "Epoch 11/20\n",
      "188/188 [==============================] - 0s 993us/step - loss: 4.8198e-05\n",
      "Epoch 12/20\n",
      "188/188 [==============================] - 0s 1ms/step - loss: 4.8372e-05\n",
      "Epoch 13/20\n",
      "188/188 [==============================] - 0s 987us/step - loss: 4.8506e-05\n",
      "Epoch 14/20\n",
      "188/188 [==============================] - 0s 990us/step - loss: 4.8608e-05\n",
      "Epoch 15/20\n",
      "188/188 [==============================] - 0s 984us/step - loss: 4.8674e-05\n",
      "Epoch 16/20\n",
      "188/188 [==============================] - 0s 984us/step - loss: 4.8735e-05\n",
      "Epoch 17/20\n",
      "188/188 [==============================] - 0s 991us/step - loss: 4.8771e-05\n",
      "Epoch 18/20\n",
      "188/188 [==============================] - 0s 998us/step - loss: 4.8782e-05\n",
      "Epoch 19/20\n",
      "188/188 [==============================] - 0s 1ms/step - loss: 4.8796e-05\n",
      "Epoch 20/20\n",
      "188/188 [==============================] - 0s 1ms/step - loss: 4.8808e-05\n"
     ]
    }
   ],
   "source": [
    "#nb_epoch = 50\n",
    "nb_epoch = 20\n",
    "batch_size = 1\n",
    "verbosity = 1\n",
    "\n",
    "history = model.fit(X_train, y_train, epochs=nb_epoch, verbose=verbosity, batch_size=batch_size, shuffle=False)"
   ]
  },
  {
   "cell_type": "code",
   "execution_count": 11,
   "metadata": {},
   "outputs": [
    {
     "data": {
      "image/png": "[encoded data removed]",
      "text/plain": [
       "<Figure size 792x576 with 1 Axes>"
      ]
     },
     "metadata": {},
     "output_type": "display_data"
    }
   ],
   "source": [
    "plt.plot(history.epoch, history.history['loss'])\n",
    "plt.gcf().set_size_inches(11,8)"
   ]
  },
  {
   "cell_type": "markdown",
   "metadata": {},
   "source": [
    "Make predictions using hte trained model"
   ]
  },
  {
   "cell_type": "code",
   "execution_count": 29,
   "metadata": {},
   "outputs": [],
   "source": [
    "y_train_pred = model.predict(X_train)\n",
    "y_test_pred = model.predict(X_test)"
   ]
  },
  {
   "cell_type": "markdown",
   "metadata": {},
   "source": [
    "Transform the predictions back to the original units"
   ]
  },
  {
   "cell_type": "code",
   "execution_count": 30,
   "metadata": {},
   "outputs": [],
   "source": [
    "y_train_pred = scaler.inverse_transform(y_train_pred)\n",
    "y_test_pred = scaler.inverse_transform(y_test_pred)"
   ]
  },
  {
   "cell_type": "markdown",
   "metadata": {},
   "source": [
    "Transform the original data back to the original units"
   ]
  },
  {
   "cell_type": "code",
   "execution_count": 31,
   "metadata": {},
   "outputs": [],
   "source": [
    "y_train_orig = scaler.inverse_transform(y_train.reshape(-1,1))\n",
    "y_test_orig = scaler.inverse_transform(y_test.reshape(-1,1))"
   ]
  },
  {
   "cell_type": "markdown",
   "metadata": {},
   "source": [
    "Plot the predicted values. Don't forget to shift the test predictions to the right xx location"
   ]
  },
  {
   "cell_type": "code",
   "execution_count": 32,
   "metadata": {},
   "outputs": [
    {
     "data": {
      "image/png": "[encoded data removed]",
      "text/plain": [
       "<Figure size 792x576 with 1 Axes>"
      ]
     },
     "metadata": {
      "needs_background": "light"
     },
     "output_type": "display_data"
    }
   ],
   "source": [
    "plt.plot(series.values, label='Data')\n",
    "plt.plot(y_train_pred, label='Training')\n",
    "plt.plot(len(y_train_pred)+1+np.arange(len(y_test_pred)), y_test_pred, label='Testing')\n",
    "plt.xlabel('Date')\n",
    "plt.ylabel('GDP ($B)')\n",
    "plt.legend()\n",
    "plt.gcf().set_size_inches(11,8)"
   ]
  },
  {
   "cell_type": "markdown",
   "metadata": {},
   "source": [
    "Save the results for later"
   ]
  },
  {
   "cell_type": "code",
   "execution_count": 16,
   "metadata": {},
   "outputs": [],
   "source": [
    "simple = np.concatenate([y_train_pred, y_test_pred])"
   ]
  },
  {
   "cell_type": "markdown",
   "metadata": {},
   "source": [
    "# Multiple timesteps"
   ]
  },
  {
   "cell_type": "markdown",
   "metadata": {},
   "source": [
    "So far we've been using just a SimpleRNN with just a single timestep. Now we'll see how we can use multiple timesteps (t-1, t) to predict the value at t+1. We'll keep the basic architecture of the system. We still have the raw data in memory, so we don't need to reload it. We just have to be careful when we build the inputs\n",
    "\n",
    "The memory you have, the less training data you'll have"
   ]
  },
  {
   "cell_type": "code",
   "execution_count": 35,
   "metadata": {},
   "outputs": [
    {
     "name": "stdout",
     "output_type": "stream",
     "text": [
      "We have 186 training points and 90 testing points\n"
     ]
    }
   ],
   "source": [
    "X2_train, X2_test = np.concatenate([train[0:-3], train[1:-2], train[2:-1]], axis=1), np.concatenate([test[0:-3], test[1:-2], test[2:-1]], axis=1)\n",
    "y2_train, y2_test = train[3:], test[3:]\n",
    "\n",
    "print(\"We have\", X2_train.shape[0], \"training points and\", X2_test.shape[0], \"testing points\")"
   ]
  },
  {
   "cell_type": "markdown",
   "metadata": {},
   "source": [
    "The more we increas the lag, the more points we lose! The rest of the code looks pretty much the same"
   ]
  },
  {
   "cell_type": "code",
   "execution_count": 36,
   "metadata": {},
   "outputs": [
    {
     "name": "stdout",
     "output_type": "stream",
     "text": [
      "(186, 3, 1)\n",
      "(90, 3, 1)\n"
     ]
    }
   ],
   "source": [
    "tf.reset_default_graph()\n",
    "keras.backend.clear_session()\n",
    "\n",
    "X2_train = X2_train.reshape(X2_train.shape[0], X2_train.shape[1], 1)\n",
    "X2_test = X2_test.reshape(X2_test.shape[0], X2_test.shape[1], 1)\n",
    "print(X2_train.shape)\n",
    "print(X2_test.shape)"
   ]
  },
  {
   "cell_type": "markdown",
   "metadata": {},
   "source": [
    "But now we see that the result is slightly different. For each of our examples, we now have 3 timesteps to consider. Now we just need to refine the model:"
   ]
  },
  {
   "cell_type": "code",
   "execution_count": 37,
   "metadata": {},
   "outputs": [
    {
     "name": "stdout",
     "output_type": "stream",
     "text": [
      "_________________________________________________________________\n",
      "Layer (type)                 Output Shape              Param #   \n",
      "=================================================================\n",
      "simple_rnn_1 (SimpleRNN)     (None, 4)                 24        \n",
      "_________________________________________________________________\n",
      "dense_1 (Dense)              (None, 1)                 5         \n",
      "=================================================================\n",
      "Total params: 29\n",
      "Trainable params: 29\n",
      "Non-trainable params: 0\n",
      "_________________________________________________________________\n"
     ]
    }
   ],
   "source": [
    "model = Sequential()\n",
    "model.add(SimpleRNN(units=4, input_shape=(X2_train.shape[1], X2_train.shape[2])))\n",
    "model.add(Dense(1))\n",
    "model.compile(loss='mean_squared_error', optimizer='adam')\n",
    "model.summary()"
   ]
  },
  {
   "cell_type": "markdown",
   "metadata": {},
   "source": [
    "Train it..."
   ]
  },
  {
   "cell_type": "code",
   "execution_count": 41,
   "metadata": {},
   "outputs": [
    {
     "name": "stdout",
     "output_type": "stream",
     "text": [
      "Epoch 1/100\n",
      " - 0s - loss: 5.7464e-05\n",
      "Epoch 2/100\n",
      " - 0s - loss: 5.7267e-05\n",
      "Epoch 3/100\n",
      " - 0s - loss: 5.6890e-05\n",
      "Epoch 4/100\n",
      " - 0s - loss: 5.6643e-05\n",
      "Epoch 5/100\n",
      " - 0s - loss: 5.6371e-05\n",
      "Epoch 6/100\n",
      " - 0s - loss: 5.6091e-05\n",
      "Epoch 7/100\n",
      " - 0s - loss: 5.5886e-05\n",
      "Epoch 8/100\n",
      " - 0s - loss: 5.5637e-05\n",
      "Epoch 9/100\n",
      " - 0s - loss: 5.5444e-05\n",
      "Epoch 10/100\n",
      " - 0s - loss: 5.5167e-05\n",
      "Epoch 11/100\n",
      " - 0s - loss: 5.5080e-05\n",
      "Epoch 12/100\n",
      " - 0s - loss: 5.4794e-05\n",
      "Epoch 13/100\n",
      " - 0s - loss: 5.4634e-05\n",
      "Epoch 14/100\n",
      " - 0s - loss: 5.4413e-05\n",
      "Epoch 15/100\n",
      " - 0s - loss: 5.4238e-05\n",
      "Epoch 16/100\n",
      " - 0s - loss: 5.4036e-05\n",
      "Epoch 17/100\n",
      " - 0s - loss: 5.3873e-05\n",
      "Epoch 18/100\n",
      " - 0s - loss: 5.3683e-05\n",
      "Epoch 19/100\n",
      " - 0s - loss: 5.3520e-05\n",
      "Epoch 20/100\n",
      " - 0s - loss: 5.3347e-05\n",
      "Epoch 21/100\n",
      " - 0s - loss: 5.3184e-05\n",
      "Epoch 22/100\n",
      " - 0s - loss: 5.2979e-05\n",
      "Epoch 23/100\n",
      " - 0s - loss: 5.2913e-05\n",
      "Epoch 24/100\n",
      " - 0s - loss: 5.2694e-05\n",
      "Epoch 25/100\n",
      " - 0s - loss: 5.2582e-05\n",
      "Epoch 26/100\n",
      " - 0s - loss: 5.2441e-05\n",
      "Epoch 27/100\n",
      " - 0s - loss: 5.2198e-05\n",
      "Epoch 28/100\n",
      " - 0s - loss: 5.2134e-05\n",
      "Epoch 29/100\n",
      " - 0s - loss: 5.2040e-05\n",
      "Epoch 30/100\n",
      " - 0s - loss: 5.1845e-05\n",
      "Epoch 31/100\n",
      " - 0s - loss: 5.1971e-05\n",
      "Epoch 32/100\n",
      " - 0s - loss: 5.1580e-05\n",
      "Epoch 33/100\n",
      " - 0s - loss: 5.1698e-05\n",
      "Epoch 34/100\n",
      " - 0s - loss: 5.1239e-05\n",
      "Epoch 35/100\n",
      " - 0s - loss: 5.1508e-05\n",
      "Epoch 36/100\n",
      " - 0s - loss: 5.1091e-05\n",
      "Epoch 37/100\n",
      " - 0s - loss: 5.1190e-05\n",
      "Epoch 38/100\n",
      " - 0s - loss: 5.0934e-05\n",
      "Epoch 39/100\n",
      " - 0s - loss: 5.0950e-05\n",
      "Epoch 40/100\n",
      " - 0s - loss: 5.0782e-05\n",
      "Epoch 41/100\n",
      " - 0s - loss: 5.0754e-05\n",
      "Epoch 42/100\n",
      " - 0s - loss: 5.0623e-05\n",
      "Epoch 43/100\n",
      " - 0s - loss: 5.0577e-05\n",
      "Epoch 44/100\n",
      " - 0s - loss: 5.0478e-05\n",
      "Epoch 45/100\n",
      " - 0s - loss: 5.0436e-05\n",
      "Epoch 46/100\n",
      " - 0s - loss: 5.0312e-05\n",
      "Epoch 47/100\n",
      " - 0s - loss: 5.0331e-05\n",
      "Epoch 48/100\n",
      " - 0s - loss: 5.0179e-05\n",
      "Epoch 49/100\n",
      " - 0s - loss: 5.0193e-05\n",
      "Epoch 50/100\n",
      " - 0s - loss: 5.0068e-05\n",
      "Epoch 51/100\n",
      " - 0s - loss: 5.0063e-05\n",
      "Epoch 52/100\n",
      " - 0s - loss: 4.9959e-05\n",
      "Epoch 53/100\n",
      " - 0s - loss: 4.9951e-05\n",
      "Epoch 54/100\n",
      " - 0s - loss: 4.9855e-05\n",
      "Epoch 55/100\n",
      " - 0s - loss: 4.9844e-05\n",
      "Epoch 56/100\n",
      " - 0s - loss: 4.9757e-05\n",
      "Epoch 57/100\n",
      " - 0s - loss: 4.9739e-05\n",
      "Epoch 58/100\n",
      " - 0s - loss: 4.9666e-05\n",
      "Epoch 59/100\n",
      " - 0s - loss: 4.9634e-05\n",
      "Epoch 60/100\n",
      " - 0s - loss: 4.9580e-05\n",
      "Epoch 61/100\n",
      " - 0s - loss: 4.9562e-05\n",
      "Epoch 62/100\n",
      " - 0s - loss: 4.9472e-05\n",
      "Epoch 63/100\n",
      " - 0s - loss: 4.9473e-05\n",
      "Epoch 64/100\n",
      " - 0s - loss: 4.9387e-05\n",
      "Epoch 65/100\n",
      " - 0s - loss: 4.9374e-05\n",
      "Epoch 66/100\n",
      " - 0s - loss: 4.9306e-05\n",
      "Epoch 67/100\n",
      " - 0s - loss: 4.9286e-05\n",
      "Epoch 68/100\n",
      " - 0s - loss: 4.9219e-05\n",
      "Epoch 69/100\n",
      " - 0s - loss: 4.9199e-05\n",
      "Epoch 70/100\n",
      " - 0s - loss: 4.9147e-05\n",
      "Epoch 71/100\n",
      " - 0s - loss: 4.9116e-05\n",
      "Epoch 72/100\n",
      " - 0s - loss: 4.9073e-05\n",
      "Epoch 73/100\n",
      " - 0s - loss: 4.9034e-05\n",
      "Epoch 74/100\n",
      " - 0s - loss: 4.9009e-05\n",
      "Epoch 75/100\n",
      " - 0s - loss: 4.8961e-05\n",
      "Epoch 76/100\n",
      " - 0s - loss: 4.8951e-05\n",
      "Epoch 77/100\n",
      " - 0s - loss: 4.8893e-05\n",
      "Epoch 78/100\n",
      " - 0s - loss: 4.8893e-05\n",
      "Epoch 79/100\n",
      " - 0s - loss: 4.8837e-05\n",
      "Epoch 80/100\n",
      " - 0s - loss: 4.8843e-05\n",
      "Epoch 81/100\n",
      " - 0s - loss: 4.8792e-05\n",
      "Epoch 82/100\n",
      " - 0s - loss: 4.8801e-05\n",
      "Epoch 83/100\n",
      " - 0s - loss: 4.8761e-05\n",
      "Epoch 84/100\n",
      " - 0s - loss: 4.8764e-05\n",
      "Epoch 85/100\n",
      " - 0s - loss: 4.8745e-05\n",
      "Epoch 86/100\n",
      " - 0s - loss: 4.8742e-05\n",
      "Epoch 87/100\n",
      " - 0s - loss: 4.8725e-05\n",
      "Epoch 88/100\n",
      " - 0s - loss: 4.8755e-05\n",
      "Epoch 89/100\n",
      " - 0s - loss: 4.8729e-05\n",
      "Epoch 90/100\n",
      " - 0s - loss: 4.8753e-05\n",
      "Epoch 91/100\n",
      " - 0s - loss: 4.8746e-05\n",
      "Epoch 92/100\n",
      " - 0s - loss: 4.8774e-05\n",
      "Epoch 93/100\n",
      " - 0s - loss: 4.8776e-05\n",
      "Epoch 94/100\n",
      " - 0s - loss: 4.8795e-05\n",
      "Epoch 95/100\n",
      " - 0s - loss: 4.8816e-05\n",
      "Epoch 96/100\n",
      " - 0s - loss: 4.8835e-05\n",
      "Epoch 97/100\n",
      " - 0s - loss: 4.8850e-05\n",
      "Epoch 98/100\n",
      " - 0s - loss: 4.8873e-05\n",
      "Epoch 99/100\n",
      " - 0s - loss: 4.8890e-05\n",
      "Epoch 100/100\n",
      " - 0s - loss: 4.8901e-05\n"
     ]
    }
   ],
   "source": [
    "nb_epoch = 100\n",
    "batch_size = 1\n",
    "\n",
    "history = model.fit(X2_train, y2_train, epochs=nb_epoch, verbose=2, batch_size=batch_size, shuffle=False)"
   ]
  },
  {
   "cell_type": "markdown",
   "metadata": {},
   "source": [
    "And take a look at the results"
   ]
  },
  {
   "cell_type": "code",
   "execution_count": 40,
   "metadata": {},
   "outputs": [
    {
     "ename": "NameError",
     "evalue": "name 'simple' is not defined",
     "output_type": "error",
     "traceback": [
      "\u001b[0;31m---------------------------------------------------------------------------\u001b[0m",
      "\u001b[0;31mNameError\u001b[0m                                 Traceback (most recent call last)",
      "\u001b[0;32m<ipython-input-40-5c9a381f79b5>\u001b[0m in \u001b[0;36m<module>\u001b[0;34m()\u001b[0m\n\u001b[1;32m     11\u001b[0m \u001b[0mplt\u001b[0m\u001b[0;34m.\u001b[0m\u001b[0mplot\u001b[0m\u001b[0;34m(\u001b[0m\u001b[0my2_train_pred\u001b[0m\u001b[0;34m,\u001b[0m \u001b[0mlabel\u001b[0m\u001b[0;34m=\u001b[0m\u001b[0;34m'Training'\u001b[0m\u001b[0;34m)\u001b[0m\u001b[0;34m\u001b[0m\u001b[0m\n\u001b[1;32m     12\u001b[0m \u001b[0mplt\u001b[0m\u001b[0;34m.\u001b[0m\u001b[0mplot\u001b[0m\u001b[0;34m(\u001b[0m\u001b[0mlen\u001b[0m\u001b[0;34m(\u001b[0m\u001b[0my2_train_pred\u001b[0m\u001b[0;34m)\u001b[0m\u001b[0;34m+\u001b[0m\u001b[0;36m1\u001b[0m\u001b[0;34m+\u001b[0m\u001b[0mnp\u001b[0m\u001b[0;34m.\u001b[0m\u001b[0marange\u001b[0m\u001b[0;34m(\u001b[0m\u001b[0mlen\u001b[0m\u001b[0;34m(\u001b[0m\u001b[0my2_test_pred\u001b[0m\u001b[0;34m)\u001b[0m\u001b[0;34m)\u001b[0m\u001b[0;34m,\u001b[0m \u001b[0my2_test_pred\u001b[0m\u001b[0;34m,\u001b[0m \u001b[0mlabel\u001b[0m\u001b[0;34m=\u001b[0m\u001b[0;34m'Testing'\u001b[0m\u001b[0;34m)\u001b[0m\u001b[0;34m\u001b[0m\u001b[0m\n\u001b[0;32m---> 13\u001b[0;31m \u001b[0mplt\u001b[0m\u001b[0;34m.\u001b[0m\u001b[0mplot\u001b[0m\u001b[0;34m(\u001b[0m\u001b[0msimple\u001b[0m\u001b[0;34m,\u001b[0m \u001b[0mlabel\u001b[0m\u001b[0;34m=\u001b[0m\u001b[0;34m'Simple'\u001b[0m\u001b[0;34m)\u001b[0m\u001b[0;34m\u001b[0m\u001b[0m\n\u001b[0m\u001b[1;32m     14\u001b[0m \u001b[0mplt\u001b[0m\u001b[0;34m.\u001b[0m\u001b[0mxlabel\u001b[0m\u001b[0;34m(\u001b[0m\u001b[0;34m'Date'\u001b[0m\u001b[0;34m)\u001b[0m\u001b[0;34m\u001b[0m\u001b[0m\n\u001b[1;32m     15\u001b[0m \u001b[0mplt\u001b[0m\u001b[0;34m.\u001b[0m\u001b[0mylabel\u001b[0m\u001b[0;34m(\u001b[0m\u001b[0;34m'GDP ($B)'\u001b[0m\u001b[0;34m)\u001b[0m\u001b[0;34m\u001b[0m\u001b[0m\n",
      "\u001b[0;31mNameError\u001b[0m: name 'simple' is not defined"
     ]
    },
    {
     "data": {
      "image/png": "[encoded data removed]",
      "text/plain": [
       "<Figure size 432x288 with 1 Axes>"
      ]
     },
     "metadata": {
      "needs_background": "light"
     },
     "output_type": "display_data"
    }
   ],
   "source": [
    "y2_train_pred = model.predict(X2_train)\n",
    "y2_test_pred = model.predict(X2_test)\n",
    "\n",
    "y2_train_pred = scaler.inverse_transform(y2_train_pred)\n",
    "y2_test_pred = scaler.inverse_transform(y2_test_pred)\n",
    "\n",
    "y2_train_orig = scaler.inverse_transform(y2_train.reshape(-1,1))\n",
    "y2_test_orig = scaler.inverse_transform(y2_test.reshape(-1,1))\n",
    "\n",
    "plt.plot(series.values, label='Data')\n",
    "plt.plot(y2_train_pred, label='Training')\n",
    "plt.plot(len(y2_train_pred)+1+np.arange(len(y2_test_pred)), y2_test_pred, label='Testing')\n",
    "plt.plot(simple, label='Simple')\n",
    "plt.xlabel('Date')\n",
    "plt.ylabel('GDP ($B)')\n",
    "plt.legend()\n",
    "plt.gcf().set_size_inches(11,8)"
   ]
  },
  {
   "cell_type": "markdown",
   "metadata": {},
   "source": [
    "We've also included the previous result for ease of reference. Surprisingly, this new result is actually a bit worse. This is likely due to "
   ]
  },
  {
   "cell_type": "code",
   "execution_count": 22,
   "metadata": {
    "collapsed": true
   },
   "outputs": [],
   "source": [
    "multiple = np.concatenate([y2_train_pred, y2_test_pred])"
   ]
  },
  {
   "cell_type": "markdown",
   "metadata": {},
   "source": [
    "# LSTM"
   ]
  },
  {
   "cell_type": "markdown",
   "metadata": {},
   "source": [
    "Let's see how an LSTM would behave in this situation. Now we have the advantage that everything else remains the same, and only the network architecture changes (slightly)"
   ]
  },
  {
   "cell_type": "code",
   "execution_count": 46,
   "metadata": {},
   "outputs": [
    {
     "name": "stdout",
     "output_type": "stream",
     "text": [
      "_________________________________________________________________\n",
      "Layer (type)                 Output Shape              Param #   \n",
      "=================================================================\n",
      "lstm_1 (LSTM)                (None, 4)                 96        \n",
      "_________________________________________________________________\n",
      "dense_1 (Dense)              (None, 1)                 5         \n",
      "=================================================================\n",
      "Total params: 101\n",
      "Trainable params: 101\n",
      "Non-trainable params: 0\n",
      "_________________________________________________________________\n"
     ]
    }
   ],
   "source": [
    "tf.reset_default_graph()\n",
    "keras.backend.clear_session()\n",
    "\n",
    "model = Sequential()\n",
    "model.add(LSTM(units=4, input_shape=(X2_train.shape[1], X2_train.shape[2])))\n",
    "model.add(Dense(1))\n",
    "model.compile(loss='mean_squared_error', optimizer='adam')\n",
    "model.summary()"
   ]
  },
  {
   "cell_type": "markdown",
   "metadata": {},
   "source": [
    "Naturally, we have many more parameters to train"
   ]
  },
  {
   "cell_type": "code",
   "execution_count": 47,
   "metadata": {},
   "outputs": [
    {
     "name": "stdout",
     "output_type": "stream",
     "text": [
      "Epoch 1/50\n",
      " - 1s - loss: 0.7726\n",
      "Epoch 2/50\n",
      " - 1s - loss: 0.1982\n",
      "Epoch 3/50\n",
      " - 1s - loss: 0.0544\n",
      "Epoch 4/50\n",
      " - 1s - loss: 0.0354\n",
      "Epoch 5/50\n",
      " - 1s - loss: 0.0300\n",
      "Epoch 6/50\n",
      " - 1s - loss: 0.0250\n",
      "Epoch 7/50\n",
      " - 1s - loss: 0.0202\n",
      "Epoch 8/50\n",
      " - 1s - loss: 0.0158\n",
      "Epoch 9/50\n",
      " - 1s - loss: 0.0120\n",
      "Epoch 10/50\n",
      " - 1s - loss: 0.0088\n",
      "Epoch 11/50\n",
      " - 1s - loss: 0.0063\n",
      "Epoch 12/50\n",
      " - 1s - loss: 0.0043\n",
      "Epoch 13/50\n",
      " - 1s - loss: 0.0029\n",
      "Epoch 14/50\n",
      " - 1s - loss: 0.0019\n",
      "Epoch 15/50\n",
      " - 1s - loss: 0.0012\n",
      "Epoch 16/50\n",
      " - 1s - loss: 7.3899e-04\n",
      "Epoch 17/50\n",
      " - 1s - loss: 4.3890e-04\n",
      "Epoch 18/50\n",
      " - 1s - loss: 2.5854e-04\n",
      "Epoch 19/50\n",
      " - 1s - loss: 1.5087e-04\n",
      "Epoch 20/50\n",
      " - 1s - loss: 9.1080e-05\n",
      "Epoch 21/50\n",
      " - 1s - loss: 6.1491e-05\n",
      "Epoch 22/50\n",
      " - 1s - loss: 5.0067e-05\n",
      "Epoch 23/50\n",
      " - 1s - loss: 4.8634e-05\n",
      "Epoch 24/50\n",
      " - 1s - loss: 5.1749e-05\n",
      "Epoch 25/50\n",
      " - 1s - loss: 5.5969e-05\n",
      "Epoch 26/50\n",
      " - 1s - loss: 5.9367e-05\n",
      "Epoch 27/50\n",
      " - 1s - loss: 6.1013e-05\n",
      "Epoch 28/50\n",
      " - 1s - loss: 6.0739e-05\n",
      "Epoch 29/50\n",
      " - 1s - loss: 5.8788e-05\n",
      "Epoch 30/50\n",
      " - 1s - loss: 5.5579e-05\n",
      "Epoch 31/50\n",
      " - 1s - loss: 5.1575e-05\n",
      "Epoch 32/50\n",
      " - 1s - loss: 4.7241e-05\n",
      "Epoch 33/50\n",
      " - 1s - loss: 4.3003e-05\n",
      "Epoch 34/50\n",
      " - 1s - loss: 3.9174e-05\n",
      "Epoch 35/50\n",
      " - 1s - loss: 3.5830e-05\n",
      "Epoch 36/50\n",
      " - 1s - loss: 3.2768e-05\n",
      "Epoch 37/50\n",
      " - 1s - loss: 3.0838e-05\n",
      "Epoch 38/50\n",
      " - 1s - loss: 2.9878e-05\n",
      "Epoch 39/50\n",
      " - 1s - loss: 2.9766e-05\n",
      "Epoch 40/50\n",
      " - 1s - loss: 3.0479e-05\n",
      "Epoch 41/50\n",
      " - 1s - loss: 3.2075e-05\n",
      "Epoch 42/50\n",
      " - 1s - loss: 3.4581e-05\n",
      "Epoch 43/50\n",
      " - 1s - loss: 3.7808e-05\n",
      "Epoch 44/50\n",
      " - 1s - loss: 4.1731e-05\n",
      "Epoch 45/50\n",
      " - 1s - loss: 4.6233e-05\n",
      "Epoch 46/50\n",
      " - 1s - loss: 5.1531e-05\n",
      "Epoch 47/50\n",
      " - 1s - loss: 5.7840e-05\n",
      "Epoch 48/50\n",
      " - 1s - loss: 6.5566e-05\n",
      "Epoch 49/50\n",
      " - 1s - loss: 7.4118e-05\n",
      "Epoch 50/50\n",
      " - 1s - loss: 8.3945e-05\n"
     ]
    }
   ],
   "source": [
    "nb_epoch = 50\n",
    "batch_size = 1\n",
    "\n",
    "history = model.fit(X2_train, y2_train, epochs=nb_epoch, verbose=2, batch_size=batch_size, shuffle=False)"
   ]
  },
  {
   "cell_type": "code",
   "execution_count": 42,
   "metadata": {},
   "outputs": [
    {
     "data": {
      "image/png": "[encoded data removed]",
      "text/plain": [
       "<Figure size 792x576 with 1 Axes>"
      ]
     },
     "metadata": {
      "needs_background": "light"
     },
     "output_type": "display_data"
    }
   ],
   "source": [
    "plt.plot(history.epoch, history.history['loss'])\n",
    "plt.gcf().set_size_inches(11,8)"
   ]
  },
  {
   "cell_type": "code",
   "execution_count": 26,
   "metadata": {},
   "outputs": [
    {
     "data": {
      "image/png": "[encoded data removed]",
      "text/plain": [
       "<Figure size 792x576 with 1 Axes>"
      ]
     },
     "metadata": {},
     "output_type": "display_data"
    }
   ],
   "source": [
    "y2_train_pred = model.predict(X2_train)\n",
    "y2_test_pred = model.predict(X2_test)\n",
    "\n",
    "y2_train_pred = scaler.inverse_transform(y2_train_pred)\n",
    "y2_test_pred = scaler.inverse_transform(y2_test_pred)\n",
    "\n",
    "y2_train_orig = scaler.inverse_transform(y2_train.reshape(-1,1))\n",
    "y2_test_orig = scaler.inverse_transform(y2_test.reshape(-1,1))\n",
    "\n",
    "plt.plot(series.values, label='Data')\n",
    "plt.plot(y2_train_pred, label='Training')\n",
    "plt.plot(len(y2_train_pred)+1+np.arange(len(y2_test_pred)), y2_test_pred, label='Testing')\n",
    "plt.plot(simple, label='Simple')\n",
    "plt.plot(multiple, label='Multiple')\n",
    "plt.xlabel('Date')\n",
    "plt.ylabel('GDP ($B)')\n",
    "plt.legend()\n",
    "plt.gcf().set_size_inches(11,8)\n",
    "\n",
    "lstm = np.concatenate([y2_train_pred, y2_test_pred])"
   ]
  },
  {
   "cell_type": "markdown",
   "metadata": {},
   "source": [
    "## Stacked LSTM"
   ]
  },
  {
   "cell_type": "code",
   "execution_count": 48,
   "metadata": {},
   "outputs": [
    {
     "name": "stdout",
     "output_type": "stream",
     "text": [
      "_________________________________________________________________\n",
      "Layer (type)                 Output Shape              Param #   \n",
      "=================================================================\n",
      "lstm_1 (LSTM)                (1, 3, 4)                 96        \n",
      "_________________________________________________________________\n",
      "lstm_2 (LSTM)                (1, 4)                    144       \n",
      "_________________________________________________________________\n",
      "dense_1 (Dense)              (1, 1)                    5         \n",
      "=================================================================\n",
      "Total params: 245\n",
      "Trainable params: 245\n",
      "Non-trainable params: 0\n",
      "_________________________________________________________________\n"
     ]
    }
   ],
   "source": [
    "tf.reset_default_graph()\n",
    "keras.backend.clear_session()\n",
    "\n",
    "model = Sequential()\n",
    "model.add(LSTM(units=4, batch_input_shape=(1, X2_train.shape[1], X2_train.shape[2]), return_sequences=True))\n",
    "model.add(LSTM(units=4))\n",
    "model.add(Dense(1))\n",
    "model.compile(loss='mean_squared_error', optimizer='adam')\n",
    "model.summary()"
   ]
  },
  {
   "cell_type": "code",
   "execution_count": 49,
   "metadata": {},
   "outputs": [
    {
     "name": "stdout",
     "output_type": "stream",
     "text": [
      "Epoch 1/50\n",
      " - 2s - loss: 0.3047\n",
      "Epoch 2/50\n",
      " - 1s - loss: 0.0215\n",
      "Epoch 3/50\n",
      " - 1s - loss: 0.0197\n",
      "Epoch 4/50\n",
      " - 1s - loss: 0.0176\n",
      "Epoch 5/50\n",
      " - 1s - loss: 0.0154\n",
      "Epoch 6/50\n",
      " - 1s - loss: 0.0134\n",
      "Epoch 7/50\n",
      " - 1s - loss: 0.0115\n",
      "Epoch 8/50\n",
      " - 1s - loss: 0.0097\n",
      "Epoch 9/50\n",
      " - 1s - loss: 0.0081\n",
      "Epoch 10/50\n",
      " - 1s - loss: 0.0066\n",
      "Epoch 11/50\n",
      " - 1s - loss: 0.0052\n",
      "Epoch 12/50\n",
      " - 1s - loss: 0.0041\n",
      "Epoch 13/50\n",
      " - 1s - loss: 0.0031\n",
      "Epoch 14/50\n",
      " - 1s - loss: 0.0023\n",
      "Epoch 15/50\n",
      " - 1s - loss: 0.0017\n",
      "Epoch 16/50\n",
      " - 1s - loss: 0.0012\n",
      "Epoch 17/50\n",
      " - 1s - loss: 8.3526e-04\n",
      "Epoch 18/50\n",
      " - 1s - loss: 5.6713e-04\n",
      "Epoch 19/50\n",
      " - 1s - loss: 3.7648e-04\n",
      "Epoch 20/50\n",
      " - 1s - loss: 2.4489e-04\n",
      "Epoch 21/50\n",
      " - 1s - loss: 1.5672e-04\n",
      "Epoch 22/50\n",
      " - 1s - loss: 9.9501e-05\n",
      "Epoch 23/50\n",
      " - 1s - loss: 6.3752e-05\n",
      "Epoch 24/50\n",
      " - 1s - loss: 4.2523e-05\n",
      "Epoch 25/50\n",
      " - 1s - loss: 3.0867e-05\n",
      "Epoch 26/50\n",
      " - 1s - loss: 2.5435e-05\n",
      "Epoch 27/50\n",
      " - 1s - loss: 2.4083e-05\n",
      "Epoch 28/50\n",
      " - 1s - loss: 2.5451e-05\n",
      "Epoch 29/50\n",
      " - 1s - loss: 2.8557e-05\n",
      "Epoch 30/50\n",
      " - 1s - loss: 3.2626e-05\n",
      "Epoch 31/50\n",
      " - 1s - loss: 3.7161e-05\n",
      "Epoch 32/50\n",
      " - 1s - loss: 4.1878e-05\n",
      "Epoch 33/50\n",
      " - 1s - loss: 4.6577e-05\n",
      "Epoch 34/50\n",
      " - 1s - loss: 5.1180e-05\n",
      "Epoch 35/50\n",
      " - 1s - loss: 5.5609e-05\n",
      "Epoch 36/50\n",
      " - 1s - loss: 5.9451e-05\n",
      "Epoch 37/50\n",
      " - 1s - loss: 6.2096e-05\n",
      "Epoch 38/50\n",
      " - 1s - loss: 6.3156e-05\n",
      "Epoch 39/50\n",
      " - 1s - loss: 6.2650e-05\n",
      "Epoch 40/50\n",
      " - 1s - loss: 6.0925e-05\n",
      "Epoch 41/50\n",
      " - 1s - loss: 5.8468e-05\n",
      "Epoch 42/50\n",
      " - 1s - loss: 5.5750e-05\n",
      "Epoch 43/50\n",
      " - 1s - loss: 5.3181e-05\n",
      "Epoch 44/50\n",
      " - 1s - loss: 5.1081e-05\n",
      "Epoch 45/50\n",
      " - 1s - loss: 4.9716e-05\n",
      "Epoch 46/50\n",
      " - 1s - loss: 4.9379e-05\n",
      "Epoch 47/50\n",
      " - 1s - loss: 5.0421e-05\n",
      "Epoch 48/50\n",
      " - 1s - loss: 5.3066e-05\n",
      "Epoch 49/50\n",
      " - 1s - loss: 5.7121e-05\n",
      "Epoch 50/50\n",
      " - 1s - loss: 6.1877e-05\n"
     ]
    }
   ],
   "source": [
    "nb_epoch = 50\n",
    "batch_size = 1\n",
    "\n",
    "history = model.fit(X2_train, y2_train, epochs=nb_epoch, verbose=2, batch_size=batch_size, shuffle=False)"
   ]
  },
  {
   "cell_type": "code",
   "execution_count": 51,
   "metadata": {},
   "outputs": [
    {
     "data": {
      "image/png": "[encoded data removed]",
      "text/plain": [
       "<Figure size 792x576 with 1 Axes>"
      ]
     },
     "metadata": {
      "needs_background": "light"
     },
     "output_type": "display_data"
    }
   ],
   "source": [
    "plt.plot(history.epoch, history.history['loss'])\n",
    "plt.gcf().set_size_inches(11,8)"
   ]
  },
  {
   "cell_type": "code",
   "execution_count": 53,
   "metadata": {},
   "outputs": [
    {
     "ename": "NameError",
     "evalue": "name 'simple' is not defined",
     "output_type": "error",
     "traceback": [
      "\u001b[0;31m---------------------------------------------------------------------------\u001b[0m",
      "\u001b[0;31mNameError\u001b[0m                                 Traceback (most recent call last)",
      "\u001b[0;32m<ipython-input-53-fa5a5a0cf03e>\u001b[0m in \u001b[0;36m<module>\u001b[0;34m()\u001b[0m\n\u001b[1;32m     11\u001b[0m \u001b[0mplt\u001b[0m\u001b[0;34m.\u001b[0m\u001b[0mplot\u001b[0m\u001b[0;34m(\u001b[0m\u001b[0my2_train_pred\u001b[0m\u001b[0;34m,\u001b[0m \u001b[0mlabel\u001b[0m\u001b[0;34m=\u001b[0m\u001b[0;34m'Training'\u001b[0m\u001b[0;34m)\u001b[0m\u001b[0;34m\u001b[0m\u001b[0m\n\u001b[1;32m     12\u001b[0m \u001b[0mplt\u001b[0m\u001b[0;34m.\u001b[0m\u001b[0mplot\u001b[0m\u001b[0;34m(\u001b[0m\u001b[0mlen\u001b[0m\u001b[0;34m(\u001b[0m\u001b[0my2_train_pred\u001b[0m\u001b[0;34m)\u001b[0m\u001b[0;34m+\u001b[0m\u001b[0;36m1\u001b[0m\u001b[0;34m+\u001b[0m\u001b[0mnp\u001b[0m\u001b[0;34m.\u001b[0m\u001b[0marange\u001b[0m\u001b[0;34m(\u001b[0m\u001b[0mlen\u001b[0m\u001b[0;34m(\u001b[0m\u001b[0my2_test_pred\u001b[0m\u001b[0;34m)\u001b[0m\u001b[0;34m)\u001b[0m\u001b[0;34m,\u001b[0m \u001b[0my2_test_pred\u001b[0m\u001b[0;34m,\u001b[0m \u001b[0mlabel\u001b[0m\u001b[0;34m=\u001b[0m\u001b[0;34m'Testing'\u001b[0m\u001b[0;34m)\u001b[0m\u001b[0;34m\u001b[0m\u001b[0m\n\u001b[0;32m---> 13\u001b[0;31m \u001b[0mplt\u001b[0m\u001b[0;34m.\u001b[0m\u001b[0mplot\u001b[0m\u001b[0;34m(\u001b[0m\u001b[0msimple\u001b[0m\u001b[0;34m,\u001b[0m \u001b[0mlabel\u001b[0m\u001b[0;34m=\u001b[0m\u001b[0;34m'Simple'\u001b[0m\u001b[0;34m)\u001b[0m\u001b[0;34m\u001b[0m\u001b[0m\n\u001b[0m\u001b[1;32m     14\u001b[0m \u001b[0mplt\u001b[0m\u001b[0;34m.\u001b[0m\u001b[0mplot\u001b[0m\u001b[0;34m(\u001b[0m\u001b[0mmultiple\u001b[0m\u001b[0;34m,\u001b[0m \u001b[0mlabel\u001b[0m\u001b[0;34m=\u001b[0m\u001b[0;34m'Multiple'\u001b[0m\u001b[0;34m)\u001b[0m\u001b[0;34m\u001b[0m\u001b[0m\n\u001b[1;32m     15\u001b[0m \u001b[0mplt\u001b[0m\u001b[0;34m.\u001b[0m\u001b[0mplot\u001b[0m\u001b[0;34m(\u001b[0m\u001b[0mlstm\u001b[0m\u001b[0;34m,\u001b[0m \u001b[0mlabel\u001b[0m\u001b[0;34m=\u001b[0m\u001b[0;34m'LSTM'\u001b[0m\u001b[0;34m)\u001b[0m\u001b[0;34m\u001b[0m\u001b[0m\n",
      "\u001b[0;31mNameError\u001b[0m: name 'simple' is not defined"
     ]
    },
    {
     "data": {
      "image/png": "[encoded data removed]",
      "text/plain": [
       "<Figure size 432x288 with 1 Axes>"
      ]
     },
     "metadata": {
      "needs_background": "light"
     },
     "output_type": "display_data"
    }
   ],
   "source": [
    "y2_train_pred = model.predict(X2_train, batch_size=1)\n",
    "y2_test_pred = model.predict(X2_test, batch_size=1)\n",
    "\n",
    "y2_train_pred = scaler.inverse_transform(y2_train_pred)\n",
    "y2_test_pred = scaler.inverse_transform(y2_test_pred)\n",
    "\n",
    "y2_train_orig = scaler.inverse_transform(y2_train.reshape(-1,1))\n",
    "y2_test_orig = scaler.inverse_transform(y2_test.reshape(-1,1))\n",
    "\n",
    "plt.plot(series.values, label='Data')\n",
    "plt.plot(y2_train_pred, label='Training')\n",
    "plt.plot(len(y2_train_pred)+1+np.arange(len(y2_test_pred)), y2_test_pred, label='Testing')\n",
    "plt.plot(simple, label='Simple')\n",
    "plt.plot(multiple, label='Multiple')\n",
    "plt.plot(lstm, label='LSTM')\n",
    "plt.xlabel('Date')\n",
    "plt.ylabel('GDP ($B)')\n",
    "plt.legend()\n",
    "plt.gcf().set_size_inches(11,8)\n",
    "\n",
    "stacked = np.concatenate([y2_train_pred, y2_test_pred])"
   ]
  },
  {
   "cell_type": "markdown",
   "metadata": {},
   "source": [
    "# GRU"
   ]
  },
  {
   "cell_type": "code",
   "execution_count": 54,
   "metadata": {},
   "outputs": [
    {
     "name": "stdout",
     "output_type": "stream",
     "text": [
      "_________________________________________________________________\n",
      "Layer (type)                 Output Shape              Param #   \n",
      "=================================================================\n",
      "gru_1 (GRU)                  (1, 4)                    72        \n",
      "_________________________________________________________________\n",
      "dense_1 (Dense)              (1, 1)                    5         \n",
      "=================================================================\n",
      "Total params: 77\n",
      "Trainable params: 77\n",
      "Non-trainable params: 0\n",
      "_________________________________________________________________\n"
     ]
    }
   ],
   "source": [
    "tf.reset_default_graph()\n",
    "keras.backend.clear_session()\n",
    "\n",
    "model = Sequential()\n",
    "model.add(GRU(units=4, batch_input_shape=(1, X2_train.shape[1], X2_train.shape[2])))\n",
    "model.add(Dense(1))\n",
    "model.compile(loss='mean_squared_error', optimizer='adam')\n",
    "model.summary()"
   ]
  },
  {
   "cell_type": "code",
   "execution_count": 55,
   "metadata": {},
   "outputs": [
    {
     "name": "stdout",
     "output_type": "stream",
     "text": [
      "Epoch 1/50\n",
      " - 1s - loss: 1.0421\n",
      "Epoch 2/50\n",
      " - 0s - loss: 0.1578\n",
      "Epoch 3/50\n",
      " - 0s - loss: 0.0345\n",
      "Epoch 4/50\n",
      " - 0s - loss: 0.0285\n",
      "Epoch 5/50\n",
      " - 0s - loss: 0.0250\n",
      "Epoch 6/50\n",
      " - 0s - loss: 0.0216\n",
      "Epoch 7/50\n",
      " - 0s - loss: 0.0183\n",
      "Epoch 8/50\n",
      " - 0s - loss: 0.0153\n",
      "Epoch 9/50\n",
      " - 0s - loss: 0.0126\n",
      "Epoch 10/50\n",
      " - 0s - loss: 0.0102\n",
      "Epoch 11/50\n",
      " - 0s - loss: 0.0081\n",
      "Epoch 12/50\n",
      " - 0s - loss: 0.0063\n",
      "Epoch 13/50\n",
      " - 0s - loss: 0.0048\n",
      "Epoch 14/50\n",
      " - 0s - loss: 0.0036\n",
      "Epoch 15/50\n",
      " - 0s - loss: 0.0026\n",
      "Epoch 16/50\n",
      " - 0s - loss: 0.0018\n",
      "Epoch 17/50\n",
      " - 0s - loss: 0.0013\n",
      "Epoch 18/50\n",
      " - 0s - loss: 8.5063e-04\n",
      "Epoch 19/50\n",
      " - 0s - loss: 5.6323e-04\n",
      "Epoch 20/50\n",
      " - 0s - loss: 3.6714e-04\n",
      "Epoch 21/50\n",
      " - 0s - loss: 2.3711e-04\n",
      "Epoch 22/50\n",
      " - 0s - loss: 1.5303e-04\n",
      "Epoch 23/50\n",
      " - 0s - loss: 9.9885e-05\n",
      "Epoch 24/50\n",
      " - 0s - loss: 6.6974e-05\n",
      "Epoch 25/50\n",
      " - 0s - loss: 4.6993e-05\n",
      "Epoch 26/50\n",
      " - 0s - loss: 3.5130e-05\n",
      "Epoch 27/50\n",
      " - 0s - loss: 2.8318e-05\n",
      "Epoch 28/50\n",
      " - 0s - loss: 2.4656e-05\n",
      "Epoch 29/50\n",
      " - 0s - loss: 2.2969e-05\n",
      "Epoch 30/50\n",
      " - 0s - loss: 2.2534e-05\n",
      "Epoch 31/50\n",
      " - 0s - loss: 2.2901e-05\n",
      "Epoch 32/50\n",
      " - 0s - loss: 2.3796e-05\n",
      "Epoch 33/50\n",
      " - 0s - loss: 2.5049e-05\n",
      "Epoch 34/50\n",
      " - 0s - loss: 2.6559e-05\n",
      "Epoch 35/50\n",
      " - 0s - loss: 2.8257e-05\n",
      "Epoch 36/50\n",
      " - 0s - loss: 3.0103e-05\n",
      "Epoch 37/50\n",
      " - 0s - loss: 3.2090e-05\n",
      "Epoch 38/50\n",
      " - 0s - loss: 3.4219e-05\n",
      "Epoch 39/50\n",
      " - 0s - loss: 3.6439e-05\n",
      "Epoch 40/50\n",
      " - 0s - loss: 3.8628e-05\n",
      "Epoch 41/50\n",
      " - 0s - loss: 4.0653e-05\n",
      "Epoch 42/50\n",
      " - 0s - loss: 4.2440e-05\n",
      "Epoch 43/50\n",
      " - 0s - loss: 4.3983e-05\n",
      "Epoch 44/50\n",
      " - 0s - loss: 4.5326e-05\n",
      "Epoch 45/50\n",
      " - 0s - loss: 4.6505e-05\n",
      "Epoch 46/50\n",
      " - 0s - loss: 4.7523e-05\n",
      "Epoch 47/50\n",
      " - 0s - loss: 4.8352e-05\n",
      "Epoch 48/50\n",
      " - 0s - loss: 4.8945e-05\n",
      "Epoch 49/50\n",
      " - 0s - loss: 4.9267e-05\n",
      "Epoch 50/50\n",
      " - 0s - loss: 4.9297e-05\n"
     ]
    }
   ],
   "source": [
    "nb_epoch = 50\n",
    "batch_size = 1\n",
    "\n",
    "history = model.fit(X2_train, y2_train, epochs=nb_epoch, verbose=2, batch_size=batch_size, shuffle=False)"
   ]
  },
  {
   "cell_type": "code",
   "execution_count": 33,
   "metadata": {},
   "outputs": [
    {
     "data": {
      "image/png": "[encoded data removed]",
      "text/plain": [
       "<Figure size 792x576 with 1 Axes>"
      ]
     },
     "metadata": {},
     "output_type": "display_data"
    }
   ],
   "source": [
    "y2_train_pred = model.predict(X2_train, batch_size=1)\n",
    "y2_test_pred = model.predict(X2_test, batch_size=1)\n",
    "\n",
    "y2_train_pred = scaler.inverse_transform(y2_train_pred)\n",
    "y2_test_pred = scaler.inverse_transform(y2_test_pred)\n",
    "\n",
    "y2_train_orig = scaler.inverse_transform(y2_train.reshape(-1,1))\n",
    "y2_test_orig = scaler.inverse_transform(y2_test.reshape(-1,1))\n",
    "\n",
    "plt.plot(series.values, label='Data')\n",
    "plt.plot(y2_train_pred, label='Training')\n",
    "plt.plot(len(y2_train_pred)+1+np.arange(len(y2_test_pred)), y2_test_pred, label='Testing')\n",
    "plt.plot(simple, label='Simple')\n",
    "plt.plot(multiple, label='Multiple')\n",
    "plt.xlabel('Date')\n",
    "plt.ylabel('GDP ($B)')\n",
    "plt.legend()\n",
    "plt.gcf().set_size_inches(11,8)"
   ]
  },
  {
   "cell_type": "code",
   "execution_count": null,
   "metadata": {
    "collapsed": true
   },
   "outputs": [],
   "source": []
  }
 ],
 "metadata": {
  "anaconda-cloud": {},
  "kernelspec": {
   "display_name": "Python 3",
   "language": "python",
   "name": "python3"
  },
  "language_info": {
   "codemirror_mode": {
    "name": "ipython",
    "version": 3
   },
   "file_extension": ".py",
   "mimetype": "text/x-python",
   "name": "python",
   "nbconvert_exporter": "python",
   "pygments_lexer": "ipython3",
   "version": "3.6.6"
  }
 },
 "nbformat": 4,
 "nbformat_minor": 2
}
